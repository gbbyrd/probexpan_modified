{
 "cells": [
  {
   "cell_type": "code",
   "execution_count": null,
   "id": "210f023d-8724-444c-9bf1-4828e9aa9f62",
   "metadata": {},
   "outputs": [],
   "source": []
  }
 ],
 "metadata": {
  "kernelspec": {
   "display_name": "LDM Environment",
   "language": "python",
   "name": "ldm"
  },
  "language_info": {
   "name": ""
  }
 },
 "nbformat": 4,
 "nbformat_minor": 5
}
